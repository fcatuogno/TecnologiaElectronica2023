{
 "cells": [
  {
   "cell_type": "markdown",
   "metadata": {},
   "source": [
    "# Guia de Ejercicios 2 - Pelicula Gruesa\n",
    "\n",
    "## Enunciado 1\n",
    "\n",
    "Diseñe un resistor con forma de “I” de 30 W sobre un sustrato de alúmina de 1 pulgada x 2\n",
    "pulgadas usando una tinta de $10 \\Omega/\\Box$ \n",
    "\n",
    "Considerar una N=L/w=2. y que la potencia máxima ($P_{max}$) de las alúminas es de $8 W/cm^{2}$\n",
    "\n",
    "Además se debe cumplir con la condición de densidad de corriente de 0,08 A/mm.\n",
    "\n",
    "<img src=\"./TP2-Resources/Fig1Ej1.png\" align=\"center\" width=\"250\" \n",
    "alt=\"Al2O3\" title=\"Rectangulo Tinta\" /> \n",
    "\n",
    "1 pulgada = 25,4 mm\n"
   ]
  },
  {
   "cell_type": "markdown",
   "metadata": {},
   "source": [
    "## Resolución\n",
    "\n",
    "Para lograr que la resistencia sea capaz de disipar hasta 30W debemos tener una superficie de al menos lo que arroje el siguiente calculo:\n",
    "\n",
    "$P_{max}\\times A = 30W \\Rightarrow A = \\frac{30W}{8W/cm^2}$\n",
    "\n",
    "$A = 3.75 cm^2$\n",
    "\n",
    "Además\n",
    "\n",
    "$L / w = 2\\hspace{0.3cm}\\land\\hspace{0.3cm}L\\times w=A\\hspace{0.3cm}\\Rightarrow$\n",
    "\n",
    "$2w\\times w=A = 2w^2=3.75cm^2\\hspace{0.3cm}\\Rightarrow\\hspace{0.3cm}w = 1.369cm$\n",
    "\n",
    "$L = 2\\times 1.369cm = 2.738cm$\n",
    "\n",
    "Estas son las dimensiones mínimas, pero debemos cumplir con la condición de corriente pedida:\n",
    "$J = 0,08 A/mm |_{t=10\\mu m}$\n",
    "\n",
    "$P = I^2\\times R\\hspace{0.3cm}\\land\\hspace{0.3cm}J=\\frac{I}{w\\times t}\\hspace{0.3cm};\\hspace{0.3cm}t=10\\mu m$ (despreciable frente a w)\n",
    "\n",
    "$J = \\sqrt{\\frac{P}{R}} \\times \\frac{1}{w}\\hspace{0.3cm}\\Rightarrow\\hspace{0.3cm}w=\\sqrt{\\frac{P}{R\\times J^2}}$\n",
    "\n",
    "$w =\\sqrt{\\frac{30W}{20\\Omega\\times(0.08A/mm)^2}}=15.31mm=1.531cm$ Cumple con las dimensiones mínimas\n",
    "\n",
    "Calculamos L\n",
    "\n",
    "$L = 2\\times w = 3.062cm$\n",
    "\n",
    "Por ultimo Verificamos que entre en la alumina:\n",
    "\n",
    "1 pulgada = 25.4mm = 2.54cm\n",
    "\n",
    "2 pulgadas = 50.8mm = 5.08cm\n",
    "\n",
    "**RTA: La resistencia debe ser de 15.31mm de ancho y 30.62mm de largo**"
   ]
  },
  {
   "cell_type": "markdown",
   "metadata": {},
   "source": [
    "## Enunciado 2\n",
    "\n",
    "Se desea construir un heater (resistencia calefactora) que sea capaz de proporcionar 3 KW\n",
    "de potencia a 240 V (CA) a una temperatura máxima controlada de 150 C.\n",
    "El área útil por pintar es un disco de acero inoxidable de 120 mm de diámetro.\n",
    "\n",
    "__Consideraciones del material resistivo:__\n",
    "\n",
    "Densidad de potencia: para un espesor de $10 \\mu m - 12 \\mu m$ (Ya sinterizado) $\\Rightarrow 60 \\frac{W}{cm^2}$\n",
    "\n",
    "Densidad de corriente: para un espesor de $10 \\mu m - 12 \\mu m$ (Ya sinterizado) $\\Rightarrow 3 \\frac{A}{mm}$\n",
    "\n",
    "__Consideraciones respecto al TCR:__\n",
    "Los materiales usados en Película Gruesa (para heaters)\n",
    "tienen altos TCR. Tener en cuenta que las resistencias van a ser diferentes cuando la sala está a temperatura ambiente (controlada) a la que tendrá a la temperatura de operación.\n",
    "Uso de datasheet: “CERMET RESISTOR – 29XXX Series” de ESL.\n",
    "\n",
    "   \n",
    "$TCR=\\frac{[(R_f-R_i)\\times10^6]}{[R_i\\times(T_f-T_i)]}$\n",
    "\n",
    "- Plantear un layout posible para ese calefactor"
   ]
  }
 ],
 "metadata": {
  "kernelspec": {
   "display_name": "Python 3",
   "language": "python",
   "name": "python3"
  },
  "language_info": {
   "codemirror_mode": {
    "name": "ipython",
    "version": 3
   },
   "file_extension": ".py",
   "mimetype": "text/x-python",
   "name": "python",
   "nbconvert_exporter": "python",
   "pygments_lexer": "ipython3",
   "version": "3.6.4"
  }
 },
 "nbformat": 4,
 "nbformat_minor": 2
}
