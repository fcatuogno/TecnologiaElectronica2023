{
 "cells": [
  {
   "cell_type": "markdown",
   "metadata": {},
   "source": [
    "## Enunciado I:\n",
    "La Figura 1 muestra el ensayo de tracción realizado sobre una probeta normalizada de una\n",
    "aleación de aluminio de 10 mm de diámetro. Para ello se utilizó un extensómetro con una\n",
    "longitud inicial L0 = 50 mm. El ensayo se efectuó manteniendo el extensómetro colocado\n",
    "hasta concluir el ensayo con la rotura de la probeta.\n",
    "Se pide:\n",
    "1. El alargamiento, ∆L, cuando se mantiene aplicada una tensión de 510 MPa.\n",
    "2. El módulo de elasticidad de la aleación ensayada.\n",
    "3. Límite elástico, δ0.2 (ver Figura 2)\n",
    "4. El alargamiento, ∆Lfinal, que experimenta una probeta de longitud inicial L0 = 50 mm una\n",
    "vez que se ha producido la rotura\n",
    "\n",
    "Datos: Diámetro: 10 mm; L0 = 50 mm\n",
    "\n",
    "<img src=\"./TP1-Resources/EsquemaEnsayo.png\" align=\"center\" width=\"350\" \n",
    "alt=\"esquematico del ensayo\" title=\"Ensayo de traccion\" /> \n",
    "\n",
    "<img src=\"./TP1-Resources/Ej1Fig1.png\" align=\"center\" width=\"650\" \n",
    "alt=\"esquematico del ensayo\" title=\"Ensayo de traccion\" /> \n",
    "\n",
    "<img src=\"./TP1-Resources/Ej1Fig2.png\" align=\"center\" width=\"650\" \n",
    "alt=\"esquematico del ensayo\" title=\"Ensayo de traccion\" /> \n"
   ]
  },
  {
   "cell_type": "markdown",
   "metadata": {},
   "source": [
    "### Respuesta 1\n",
    "\n",
    "Extraemos el dato de la figura 1 buscando el punto en la curva y vemos que corresponde a 0.022. [Adimensional]:\n",
    "\n",
    "<img src=\"./TP1-Resources/Ej1Rta1.png\" align=\"center\" width=\"650\" \n",
    "alt=\"esquematico del ensayo\" title=\"Ensayo de traccion\" /> \n",
    "\n",
    "Además en la figura dos, podemos ver sobre el extremo derecho del grafico que el valor se encuentra próximo a 0.02\n",
    "\n",
    "### Respuesta 2\n",
    "\n",
    "El modulo de elasticidad lo obtenemos de la pendiente de la recta que forma la zona lineal de elasticidad. Vemos que un punto se encuentra en el origen y otro en la coordenada (0.005; 350MPa). Por lo tanto\n",
    "\n",
    "<center> $ E=\\frac{\\sigma}{\\epsilon} = \\frac{350MPa}{0.005} = 70000MPa = 70GPa$ </center>\n",
    "\n",
    "El modulo de elasticidad de la aleación de aluminio es de 70GPa"
   ]
  }
 ],
 "metadata": {
  "kernelspec": {
   "display_name": "Python 3",
   "language": "python",
   "name": "python3"
  },
  "language_info": {
   "codemirror_mode": {
    "name": "ipython",
    "version": 3
   },
   "file_extension": ".py",
   "mimetype": "text/x-python",
   "name": "python",
   "nbconvert_exporter": "python",
   "pygments_lexer": "ipython3",
   "version": "3.6.4"
  }
 },
 "nbformat": 4,
 "nbformat_minor": 2
}
